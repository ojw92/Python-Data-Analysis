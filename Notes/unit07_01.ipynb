{
 "cells": [
  {
   "cell_type": "code",
   "execution_count": 2,
   "metadata": {},
   "outputs": [],
   "source": [
    "# 7 - 1\n",
    "\n",
    "# if the .csv file can't read Korean in its contents,\n",
    "# save as 'filename.csv' with file type as \"all files\" and encoding as \"utf-8\""
   ]
  },
  {
   "cell_type": "code",
   "execution_count": 5,
   "metadata": {},
   "outputs": [
    {
     "name": "stdout",
     "output_type": "stream",
     "text": [
      "['서울특별시 서대문구 북아현동(1141055500)', '16,637', '16,637', '141', '125', '147', '147', '175', '148', '149', '140', '143', '123', '117', '113', '96', '104', '82', '98', '93', '130', '103', '150', '177', '179', '229', '218', '250', '266', '261', '254', '260', '285', '249', '262', '249', '279', '283', '332', '291', '318', '326', '310', '321', '292', '258', '279', '226', '244', '268', '244', '250', '299', '303', '301', '294', '277', '259', '297', '302', '251', '271', '220', '253', '206', '213', '203', '192', '202', '142', '126', '167', '101', '112', '113', '87', '127', '105', '75', '104', '99', '119', '83', '65', '74', '63', '55', '44', '44', '29', '33', '21', '14', '18', '17', '7', '11', '7', '7', '5', '3', '3', '2', '28']\n"
     ]
    }
   ],
   "source": [
    "# 7 - 3    print population by age in specific sector\n",
    "\n",
    "import csv\n",
    "f = open('age.csv')\n",
    "data = csv.reader(f)\n",
    "\n",
    "for row in data:\n",
    "    if '북아현동' in row[0]:    # look for \"북아현동\" in the string\n",
    "        print(row)"
   ]
  },
  {
   "cell_type": "code",
   "execution_count": 7,
   "metadata": {},
   "outputs": [
    {
     "name": "stdout",
     "output_type": "stream",
     "text": [
      "141\n",
      "125\n",
      "147\n",
      "147\n",
      "175\n",
      "148\n",
      "149\n",
      "140\n",
      "143\n",
      "123\n",
      "117\n",
      "113\n",
      "96\n",
      "104\n",
      "82\n",
      "98\n",
      "93\n",
      "130\n",
      "103\n",
      "150\n",
      "177\n",
      "179\n",
      "229\n",
      "218\n",
      "250\n",
      "266\n",
      "261\n",
      "254\n",
      "260\n",
      "285\n",
      "249\n",
      "262\n",
      "249\n",
      "279\n",
      "283\n",
      "332\n",
      "291\n",
      "318\n",
      "326\n",
      "310\n",
      "321\n",
      "292\n",
      "258\n",
      "279\n",
      "226\n",
      "244\n",
      "268\n",
      "244\n",
      "250\n",
      "299\n",
      "303\n",
      "301\n",
      "294\n",
      "277\n",
      "259\n",
      "297\n",
      "302\n",
      "251\n",
      "271\n",
      "220\n",
      "253\n",
      "206\n",
      "213\n",
      "203\n",
      "192\n",
      "202\n",
      "142\n",
      "126\n",
      "167\n",
      "101\n",
      "112\n",
      "113\n",
      "87\n",
      "127\n",
      "105\n",
      "75\n",
      "104\n",
      "99\n",
      "119\n",
      "83\n",
      "65\n",
      "74\n",
      "63\n",
      "55\n",
      "44\n",
      "44\n",
      "29\n",
      "33\n",
      "21\n",
      "14\n",
      "18\n",
      "17\n",
      "7\n",
      "11\n",
      "7\n",
      "7\n",
      "5\n",
      "3\n",
      "3\n",
      "2\n",
      "28\n",
      "101\n"
     ]
    }
   ],
   "source": [
    "import csv\n",
    "f = open('age.csv')\n",
    "data = csv.reader(f)\n",
    "\n",
    "for row in data:\n",
    "    if '북아현동' in row[0]:\n",
    "        for i in row[3:]:    # age 0 starts at column 4, or row[3]. age 100+ ends at row[-1]\n",
    "            print(i)\n",
    "        print(len(row[3:]))    # check that 0~100+, or 101 columns were all accounted for"
   ]
  },
  {
   "cell_type": "code",
   "execution_count": 31,
   "metadata": {},
   "outputs": [
    {
     "name": "stdout",
     "output_type": "stream",
     "text": [
      "[141, 125, 147, 147, 175, 148, 149, 140, 143, 123, 117, 113, 96, 104, 82, 98, 93, 130, 103, 150, 177, 179, 229, 218, 250, 266, 261, 254, 260, 285, 249, 262, 249, 279, 283, 332, 291, 318, 326, 310, 321, 292, 258, 279, 226, 244, 268, 244, 250, 299, 303, 301, 294, 277, 259, 297, 302, 251, 271, 220, 253, 206, 213, 203, 192, 202, 142, 126, 167, 101, 112, 113, 87, 127, 105, 75, 104, 99, 119, 83, 65, 74, 63, 55, 44, 44, 29, 33, 21, 14, 18, 17, 7, 11, 7, 7, 5, 3, 3, 2, 28]\n"
     ]
    },
    {
     "data": {
      "image/png": "[encoded data removed]",
      "text/plain": [
       "<Figure size 432x288 with 1 Axes>"
      ]
     },
     "metadata": {},
     "output_type": "display_data"
    }
   ],
   "source": [
    "# put age data in list & visualize\n",
    "\n",
    "import csv\n",
    "import matplotlib.pyplot as plt\n",
    "f = open('age.csv')\n",
    "data = csv.reader(f)\n",
    "result = []\n",
    "\n",
    "for row in data:\n",
    "    if '북아현동' in row[0]:\n",
    "        for i in row[3:]:\n",
    "            result.append(int(i))    # entries are strings, so use int()\n",
    "print(result)\n",
    "\n",
    "plt.style.use('ggplot')\n",
    "plt.plot(result)\n",
    "plt.show()"
   ]
  },
  {
   "cell_type": "code",
   "execution_count": 19,
   "metadata": {},
   "outputs": [
    {
     "name": "stdout",
     "output_type": "stream",
     "text": [
      "['bmh', 'classic', 'dark_background', 'fast', 'fivethirtyeight', 'ggplot', 'grayscale', 'seaborn-bright', 'seaborn-colorblind', 'seaborn-dark-palette', 'seaborn-dark', 'seaborn-darkgrid', 'seaborn-deep', 'seaborn-muted', 'seaborn-notebook', 'seaborn-paper', 'seaborn-pastel', 'seaborn-poster', 'seaborn-talk', 'seaborn-ticks', 'seaborn-white', 'seaborn-whitegrid', 'seaborn', 'Solarize_Light2', 'tableau-colorblind10', '_classic_test']\n"
     ]
    }
   ],
   "source": [
    "# use this command to see other available styles besides 'ggplot'\n",
    "print(plt.style.available)"
   ]
  },
  {
   "cell_type": "code",
   "execution_count": 28,
   "metadata": {},
   "outputs": [
    {
     "name": "stdout",
     "output_type": "stream",
     "text": [
      "인구 구조가 알고 싶은 지역의 이름(읍면동 단위)을 입력해 주세요: 문래동\n",
      "[274, 304, 284, 358, 361, 362, 353, 374, 372, 335, 318, 310, 334, 317, 299, 283, 262, 299, 258, 264, 349, 313, 299, 327, 335, 374, 435, 436, 476, 505, 483, 544, 604, 532, 598, 675, 632, 648, 767, 714, 684, 734, 570, 609, 585, 543, 563, 572, 553, 572, 504, 490, 466, 417, 386, 381, 407, 359, 371, 412, 427, 383, 403, 394, 376, 391, 358, 270, 337, 234, 276, 249, 228, 255, 190, 176, 173, 180, 199, 151, 125, 118, 110, 111, 93, 81, 70, 61, 36, 35, 28, 26, 26, 13, 8, 7, 4, 3, 6, 8, 26]\n",
      "101\n"
     ]
    },
    {
     "data": {
      "image/png": "[encoded data removed]",
      "text/plain": [
       "<Figure size 432x288 with 1 Axes>"
      ]
     },
     "metadata": {},
     "output_type": "display_data"
    }
   ],
   "source": [
    "# ask for sector as input, and show graph of that sector's data\n",
    "\n",
    "import csv\n",
    "import matplotlib.pyplot as plt\n",
    "f = open('age.csv')\n",
    "data = csv.reader(f)\n",
    "result=[]\n",
    "\n",
    "sector = input('인구 구조가 알고 싶은 지역의 이름(읍면동 단위)을 입력해 주세요: ')\n",
    "\n",
    "for row in data:\n",
    "    if sector in row[0]:\n",
    "        for i in row[3:]:\n",
    "            result.append(int(i))\n",
    "print(result)\n",
    "print(len(result))\n",
    "\n",
    "plt.rc('font', family='Malgun Gothic')\n",
    "plt.style.use('Solarize_Light2')\n",
    "plt.title(sector + ' 지역의 인구 구조')\n",
    "plt.plot(result)\n",
    "plt.show()\n",
    "f.close()"
   ]
  },
  {
   "cell_type": "code",
   "execution_count": null,
   "metadata": {},
   "outputs": [],
   "source": []
  }
 ],
 "metadata": {
  "kernelspec": {
   "display_name": "Python 3",
   "language": "python",
   "name": "python3"
  },
  "language_info": {
   "codemirror_mode": {
    "name": "ipython",
    "version": 3
   },
   "file_extension": ".py",
   "mimetype": "text/x-python",
   "name": "python",
   "nbconvert_exporter": "python",
   "pygments_lexer": "ipython3",
   "version": "3.7.4"
  }
 },
 "nbformat": 4,
 "nbformat_minor": 2
}
