{
 "cells": [
  {
   "cell_type": "code",
   "execution_count": null,
   "metadata": {},
   "outputs": [],
   "source": [
    "# 11 - 1\n",
    "\n",
    "# subway fee data"
   ]
  },
  {
   "cell_type": "code",
   "execution_count": null,
   "metadata": {},
   "outputs": [],
   "source": [
    "# 11 - 2\n",
    "\n",
    "import csv\n",
    "f = open('subwayfee.csv')\n",
    "data = csv.reader(f)\n",
    "next(data)    # remove header (first row)\n",
    "\n",
    "for row in data:\n",
    "    for i in range(4,8):    # column index 4 ~ 7 (5th~8th)\n",
    "        row[i] = int(row[i])\n",
    "    print(row)"
   ]
  },
  {
   "cell_type": "code",
   "execution_count": null,
   "metadata": {},
   "outputs": [],
   "source": [
    "# 11 - 3\n",
    "\n",
    "import csv\n",
    "import matplotlib.pyplot as plt\n",
    "f = open('subwayfee.csv')\n",
    "data = csv.reader(f)\n",
    "next(data)\n",
    "rate = 0\n",
    "mx = 0\n",
    "\n",
    "for row in data:\n",
    "    for i in range(4, 8):\n",
    "        row[i] = int(row[i])\n",
    "    rate = row[4] / row[6]\n",
    "    if rate > mx:\n",
    "        mx = rate\n",
    "\n",
    "print(mx)"
   ]
  },
  {
   "cell_type": "code",
   "execution_count": null,
   "metadata": {},
   "outputs": [],
   "source": [
    "# division by zero error --> row[6] = 0 somewhere\n",
    "\n",
    "for row in data:\n",
    "    for i in range(4,8):\n",
    "        row[i] = int(row[i])\n",
    "    if row[6] == 0:\n",
    "        print(row)"
   ]
  },
  {
   "cell_type": "code",
   "execution_count": null,
   "metadata": {},
   "outputs": [],
   "source": [
    "f = open('subwayfee.csv')\n",
    "data = csv.reader(f)\n",
    "next(data)\n",
    "rate = 0\n",
    "mx = 0\n",
    "\n",
    "for row in data:\n",
    "    for i in range(4,8):\n",
    "        row[i] = int(row[i])\n",
    "    if row[6] != 0:\n",
    "        rate = row[4]/row[6]\n",
    "        if rate > mx:\n",
    "            mx = rate\n",
    "            print(row, round(rate, 2))    # round rate to 2 decimal places"
   ]
  },
  {
   "cell_type": "code",
   "execution_count": null,
   "metadata": {},
   "outputs": [],
   "source": [
    "# there are stations that have only 승차 and not 하차\n",
    "# those are stations with transfers to other lines\n",
    "# for now, let's use rate as proportion of 유임승차 to 유임 + 무임 승차"
   ]
  },
  {
   "cell_type": "code",
   "execution_count": null,
   "metadata": {},
   "outputs": [],
   "source": [
    "import csv\n",
    "f = open('subwayfee.csv')\n",
    "data = csv.reader(f)\n",
    "next(data)\n",
    "rate, mx = 0, 0\n",
    "\n",
    "for row in data:\n",
    "    for i in range(4,8):\n",
    "        row[i] = int(row[i])\n",
    "    if row[6] != 0 and (row[4]+row[6]) > 100000:    # limit to 무임승차 != 0 and total 승차 > 100000\n",
    "        rate = row[4] / (row[4]+row[6])\n",
    "        if rate > mx:\n",
    "            mx = rate\n",
    "            print(row, round(rate, 2))"
   ]
  },
  {
   "cell_type": "code",
   "execution_count": null,
   "metadata": {},
   "outputs": [],
   "source": [
    "# is there only one station that has high rate? let's check\n",
    "\n",
    "import csv\n",
    "f = open('subwayfee.csv')\n",
    "data = csv.reader(f)\n",
    "next(data)\n",
    "rate, mx = 0, 0\n",
    "\n",
    "for row in data:\n",
    "    for i in range(4,8):\n",
    "        row[i] = int(row[i])\n",
    "    if row[6] != 0 and (row[4]+row[6]) > 100000:\n",
    "        rate = row[4] / (row[4]+row[6])\n",
    "        if rate > 0.94:    # find all stations with very high 유임승차 rate\n",
    "            print(row, round(rate,2))"
   ]
  },
  {
   "cell_type": "code",
   "execution_count": null,
   "metadata": {},
   "outputs": [],
   "source": [
    "# station with highest 유임승차 비율\n",
    "\n",
    "import csv\n",
    "f = open('subwayfee.csv')\n",
    "data = csv.reader(f)\n",
    "next(data)\n",
    "mx = 0\n",
    "rate = 0\n",
    "mx_station = ''\n",
    "\n",
    "for row in data:\n",
    "    for i in range(4,8):\n",
    "        row[i] = int(row[i])\n",
    "    if row[6] != 0 and (row[4]+row[6]) > 100000:\n",
    "        rate = row[4] / (row[4]+row[6])\n",
    "        if rate > mx:\n",
    "            mx = rate\n",
    "            mx_station = row[3] + ' ' + row[1]    # store station name & line number\n",
    "    \n",
    "print(mx_station, round(mx*100, 2))"
   ]
  },
  {
   "cell_type": "code",
   "execution_count": null,
   "metadata": {},
   "outputs": [],
   "source": [
    "# 11 - 4    total board & exit (유무임 승하차)\n",
    "# need 유임승차, 유임하차, 무임승차, 무임하차 - 4 passenger data + 4 station data\n",
    "\n",
    "import csv\n",
    "f = open('subwayfee.csv')\n",
    "data = csv.reader(f)\n",
    "next(data)\n",
    "mx = [0] * 4    # [0, 0, 0, 0]\n",
    "mx_station = [''] * 4    # ['', '', '', '']\n",
    "label = ['유임승차', '유임하차', '무임승차', '무임하차']\n",
    "\n",
    "for row in data:\n",
    "    for i in range(4,8):\n",
    "        row[i] = int(row[i])\n",
    "        if row[i] > mx[i-4]:\n",
    "            mx[i-4] = row[i]\n",
    "            mx_station[i-4] = row[3] + ' ' + row[1]\n",
    "\n",
    "for i in range(4):\n",
    "    print(label[i] + ' : ' + mx_station[i], mx[i])"
   ]
  },
  {
   "cell_type": "code",
   "execution_count": null,
   "metadata": {},
   "outputs": [],
   "source": [
    "# In December 2020, 2호선 강남역 had the most 유임승차 & 유임하차 at ~1.4 million\n",
    "# In January 2019, 2호선 강남역 had ~3 million 유임승차 & 유임하차, for reference\n",
    "# significant drop must be due to COVID-19"
   ]
  },
  {
   "cell_type": "code",
   "execution_count": null,
   "metadata": {},
   "outputs": [],
   "source": [
    "# 11 - 5    every station's 유무임 승하차 비율 - pie chart\n",
    "\n",
    "import csv\n",
    "import matplotlib.pyplot as plt\n",
    "f = open('subwayfee.csv')\n",
    "data = csv.reader(f)\n",
    "next(data)\n",
    "label = ['유임승차', '유임하차', '무임승차', '무임하차']\n",
    "\n",
    "for row in data:\n",
    "    for i in range(4,8):\n",
    "        row[i] = int(row[i])\n",
    "        plt.pie(row[4:8])\n",
    "        plt.axis('equal')\n",
    "        plt.show()"
   ]
  },
  {
   "cell_type": "code",
   "execution_count": null,
   "metadata": {},
   "outputs": [],
   "source": [
    "# this creates a pie chart for each row, so stop the program and add a few things:\n",
    "# add color, title, labels"
   ]
  },
  {
   "cell_type": "code",
   "execution_count": null,
   "metadata": {},
   "outputs": [],
   "source": [
    "# 11 - 5    every station's 유무임 승하차 비율 - pie chart\n",
    "\n",
    "import csv\n",
    "import matplotlib.pyplot as plt\n",
    "f = open('subwayfee.csv')\n",
    "data = csv.reader(f)\n",
    "next(data)\n",
    "label = ['유임승차', '유임하차', '무임승차', '무임하차']\n",
    "\n",
    "c = ['#14CCC0', '#389993', '#FF1C6A', '#CC14AF']    # colors of pie slices\n",
    "plt.rc('font', family='Malgun Gothic')\n",
    "\n",
    "for row in data:\n",
    "    for i in range(4,8):\n",
    "        row[i] = int(row[i])\n",
    "    plt.figure(dpi = 300)\n",
    "    plt.title(row[3]+' '+row[1])    # station & line\n",
    "    plt.pie(row[4:8], labels=label, colors=c, autopct='%.1f%%')\n",
    "    plt.axis('equal')\n",
    "    plt.show()"
   ]
  },
  {
   "cell_type": "code",
   "execution_count": null,
   "metadata": {},
   "outputs": [],
   "source": [
    "# saving each pie chart image as .png file using savefig()\n",
    "\n",
    "import csv\n",
    "import matplotlib.pyplot as plt\n",
    "f = open('subwayfee.csv')\n",
    "data = csv.reader(f)\n",
    "next(data)\n",
    "label = ['유임승차', '유임하차', '무임승차', '무임하차']\n",
    "\n",
    "c = ['#14CCC0', '#389993', '#FF1C6A', '#CC14AF']\n",
    "plt.rc('font', family='Malgun Gothic')\n",
    "\n",
    "for row in data:\n",
    "    for i in range(4,8):\n",
    "        row[i] = int(row[i])\n",
    "    plt.figure(dpi=300)\n",
    "    plt.title(row[3]+' '+row[1])\n",
    "    plt.pie(row[4:8], labels=label, colors=c, autopct='%.1f%%')\n",
    "    plt.axis('equal')\n",
    "    plt.savefig(row[3]+' '+row[1]+'.png')\n",
    "    plt.show()"
   ]
  },
  {
   "cell_type": "code",
   "execution_count": null,
   "metadata": {},
   "outputs": [],
   "source": []
  }
 ],
 "metadata": {
  "kernelspec": {
   "display_name": "Python 3",
   "language": "python",
   "name": "python3"
  },
  "language_info": {
   "codemirror_mode": {
    "name": "ipython",
    "version": 3
   },
   "file_extension": ".py",
   "mimetype": "text/x-python",
   "name": "python",
   "nbconvert_exporter": "python",
   "pygments_lexer": "ipython3",
   "version": "3.7.4"
  }
 },
 "nbformat": 4,
 "nbformat_minor": 2
}
